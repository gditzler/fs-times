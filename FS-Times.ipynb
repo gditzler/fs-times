{
 "metadata": {
  "name": "",
  "signature": "sha256:825c616126652c8e2cc64c5a213fee62fb4f0ee33de97b00ddb83bbc06c07821"
 },
 "nbformat": 3,
 "nbformat_minor": 0,
 "worksheets": [
  {
   "cells": [
    {
     "cell_type": "markdown",
     "metadata": {},
     "source": [
      "# About \n",
      "\n",
      "Compare a few feature subset selection algorithms that can be found in `FEAST` and `Sklearn`. "
     ]
    },
    {
     "cell_type": "code",
     "collapsed": false,
     "input": [
      "import numpy as np\n",
      "import matplotlib.pylab as plt \n",
      "import feast\n",
      "import utils\n",
      "import time \n",
      "from sklearn.feature_selection import chi2 \n",
      "from sklearn.linear_model import ElasticNet, Lasso "
     ],
     "language": "python",
     "metadata": {},
     "outputs": [],
     "prompt_number": 1
    },
    {
     "cell_type": "markdown",
     "metadata": {},
     "source": [
      "# Single Evaluation of MIM"
     ]
    },
    {
     "cell_type": "code",
     "collapsed": false,
     "input": [
      "data, labels = utils.gen_dat(n_features=100, n_observations=1000, n_relevant=15)\n",
      "t_start = time.time()\n",
      "sel_feat = feast.MIM(data=data, labels=labels, n_select=15)\n",
      "print time.time() - t_start\n",
      "sel_feats = np.array([1+i for i in sel_feat])  # new feast will index @ zero\n",
      "print len(sel_feats)\n",
      "print np.sort(sel_feats)"
     ],
     "language": "python",
     "metadata": {},
     "outputs": [
      {
       "output_type": "stream",
       "stream": "stdout",
       "text": [
        "0.00201916694641\n",
        "15\n",
        "[  1.   2.   3.   4.   5.   6.   7.   8.   9.  10.  11.  12.  13.  14.  15.]\n"
       ]
      }
     ],
     "prompt_number": 2
    },
    {
     "cell_type": "markdown",
     "metadata": {},
     "source": [
      "# Run the Algorithms "
     ]
    },
    {
     "cell_type": "code",
     "collapsed": false,
     "input": [
      "n_features = 500\n",
      "steps = 250\n",
      "n_begin = 500\n",
      "n_end = 10000\n",
      "n_relevant = 100\n",
      "n_select = int(np.floor(n_features/5))\n",
      "\n",
      "mrmr_times = []\n",
      "mim_times = []\n",
      "jmi_times = []\n",
      "chi2_times = []\n",
      "enet_times = []\n",
      "lasso_times = []\n",
      "\n",
      "for n_observations in range(n_begin, n_end, steps):\n",
      "    print \"Running with \" + str(n_observations)\n",
      "    data, labels = utils.gen_dat(n_features=n_features, \n",
      "                                 n_observations=n_observations, \n",
      "                                 n_relevant=n_relevant)\n",
      "    # run mrmr \n",
      "    t_start = time.time()\n",
      "    sel_feat = feast.mRMR(data=data, labels=labels, n_select=int(np.floor(n_features/5)))\n",
      "    mrmr_times.append(time.time() - t_start)\n",
      "    \n",
      "    # run mim \n",
      "    t_start = time.time()\n",
      "    sel_feat = feast.MIM(data=data, labels=labels, n_select=int(np.floor(n_features/5)))\n",
      "    mim_times.append(time.time() - t_start)\n",
      "    \n",
      "    # run jmi\n",
      "    t_start = time.time()\n",
      "    sel_feat = feast.JMI(data=data, labels=labels, n_select=int(np.floor(n_features/5)))\n",
      "    jmi_times.append(time.time() - t_start)\n",
      "    \n",
      "    # run chi2\n",
      "    t_start = time.time()\n",
      "    sel_feat = chi2(X=data, y=labels)  \n",
      "    chi2_times.append(time.time() - t_start)\n",
      "    \n",
      "    # run lasso\n",
      "    mdl = Lasso(alpha=1.0, fit_intercept=True, normalize=False, precompute='auto', \n",
      "                copy_X=False, max_iter=5000, tol=0.0001, warm_start=False, positive=False)\n",
      "    t_start = time.time()\n",
      "    w = mdl.fit(X=data, y=labels)\n",
      "    lasso_times.append(time.time() - t_start)\n",
      "    \n",
      "    # run elastic net\n",
      "    mdl = ElasticNet(alpha=1.0, l1_ratio=0.5, fit_intercept=True, normalize=False, \n",
      "                     precompute='auto', max_iter=5000, copy_X=False, tol=0.0001, warm_start=False, \n",
      "                     positive=False, rho=None) \n",
      "    t_start = time.time() \n",
      "    w = mdl.fit(X=data, y=labels)\n",
      "    enet_times.append(time.time() - t_start)\n",
      "    \n",
      "    "
     ],
     "language": "python",
     "metadata": {},
     "outputs": [
      {
       "output_type": "stream",
       "stream": "stdout",
       "text": [
        "Running with 500\n",
        "Running with 750"
       ]
      },
      {
       "output_type": "stream",
       "stream": "stdout",
       "text": [
        "\n",
        "Running with 1000"
       ]
      },
      {
       "output_type": "stream",
       "stream": "stdout",
       "text": [
        "\n",
        "Running with 1250"
       ]
      },
      {
       "output_type": "stream",
       "stream": "stdout",
       "text": [
        "\n",
        "Running with 1500"
       ]
      },
      {
       "output_type": "stream",
       "stream": "stdout",
       "text": [
        "\n",
        "Running with 1750"
       ]
      },
      {
       "output_type": "stream",
       "stream": "stdout",
       "text": [
        "\n",
        "Running with 2000"
       ]
      },
      {
       "output_type": "stream",
       "stream": "stdout",
       "text": [
        "\n",
        "Running with 2250"
       ]
      },
      {
       "output_type": "stream",
       "stream": "stdout",
       "text": [
        "\n",
        "Running with 2500"
       ]
      },
      {
       "output_type": "stream",
       "stream": "stdout",
       "text": [
        "\n",
        "Running with 2750"
       ]
      },
      {
       "output_type": "stream",
       "stream": "stdout",
       "text": [
        "\n",
        "Running with 3000"
       ]
      },
      {
       "output_type": "stream",
       "stream": "stdout",
       "text": [
        "\n",
        "Running with 3250"
       ]
      },
      {
       "output_type": "stream",
       "stream": "stdout",
       "text": [
        "\n",
        "Running with 3500"
       ]
      },
      {
       "output_type": "stream",
       "stream": "stdout",
       "text": [
        "\n",
        "Running with 3750"
       ]
      },
      {
       "output_type": "stream",
       "stream": "stdout",
       "text": [
        "\n",
        "Running with 4000"
       ]
      },
      {
       "output_type": "stream",
       "stream": "stdout",
       "text": [
        "\n",
        "Running with 4250"
       ]
      },
      {
       "output_type": "stream",
       "stream": "stdout",
       "text": [
        "\n",
        "Running with 4500"
       ]
      },
      {
       "output_type": "stream",
       "stream": "stdout",
       "text": [
        "\n",
        "Running with 4750"
       ]
      },
      {
       "output_type": "stream",
       "stream": "stdout",
       "text": [
        "\n",
        "Running with 5000"
       ]
      },
      {
       "output_type": "stream",
       "stream": "stdout",
       "text": [
        "\n",
        "Running with 5250"
       ]
      },
      {
       "output_type": "stream",
       "stream": "stdout",
       "text": [
        "\n",
        "Running with 5500"
       ]
      },
      {
       "output_type": "stream",
       "stream": "stdout",
       "text": [
        "\n",
        "Running with 5750"
       ]
      },
      {
       "output_type": "stream",
       "stream": "stdout",
       "text": [
        "\n",
        "Running with 6000"
       ]
      },
      {
       "output_type": "stream",
       "stream": "stdout",
       "text": [
        "\n",
        "Running with 6250"
       ]
      },
      {
       "output_type": "stream",
       "stream": "stdout",
       "text": [
        "\n",
        "Running with 6500"
       ]
      },
      {
       "output_type": "stream",
       "stream": "stdout",
       "text": [
        "\n",
        "Running with 6750"
       ]
      },
      {
       "output_type": "stream",
       "stream": "stdout",
       "text": [
        "\n",
        "Running with 7000"
       ]
      },
      {
       "output_type": "stream",
       "stream": "stdout",
       "text": [
        "\n",
        "Running with 7250"
       ]
      },
      {
       "output_type": "stream",
       "stream": "stdout",
       "text": [
        "\n",
        "Running with 7500"
       ]
      },
      {
       "output_type": "stream",
       "stream": "stdout",
       "text": [
        "\n",
        "Running with 7750"
       ]
      },
      {
       "output_type": "stream",
       "stream": "stdout",
       "text": [
        "\n",
        "Running with 8000"
       ]
      },
      {
       "output_type": "stream",
       "stream": "stdout",
       "text": [
        "\n",
        "Running with 8250"
       ]
      },
      {
       "output_type": "stream",
       "stream": "stdout",
       "text": [
        "\n",
        "Running with 8500"
       ]
      },
      {
       "output_type": "stream",
       "stream": "stdout",
       "text": [
        "\n",
        "Running with 8750"
       ]
      },
      {
       "output_type": "stream",
       "stream": "stdout",
       "text": [
        "\n",
        "Running with 9000"
       ]
      },
      {
       "output_type": "stream",
       "stream": "stdout",
       "text": [
        "\n",
        "Running with 9250"
       ]
      },
      {
       "output_type": "stream",
       "stream": "stdout",
       "text": [
        "\n",
        "Running with 9500"
       ]
      },
      {
       "output_type": "stream",
       "stream": "stdout",
       "text": [
        "\n",
        "Running with 9750"
       ]
      },
      {
       "output_type": "stream",
       "stream": "stdout",
       "text": [
        "\n"
       ]
      }
     ],
     "prompt_number": 3
    },
    {
     "cell_type": "markdown",
     "metadata": {},
     "source": [
      "# Plot the results "
     ]
    },
    {
     "cell_type": "code",
     "collapsed": false,
     "input": [
      "n_observations = range(n_begin, n_end, steps)\n",
      "plt.plot(n_observations, np.log(np.array(mrmr_times)), c='b', label='mRMR')\n",
      "plt.plot(n_observations, np.log(np.array(mim_times)), c='r', label='MIM')\n",
      "plt.plot(n_observations, np.log(np.array(jmi_times)), c='k', label='JMI')\n",
      "plt.plot(n_observations, np.log(np.array(chi2_times)), c='c', label='$\\chi^2$')\n",
      "plt.plot(n_observations, np.log(np.array(lasso_times)), c='g', label='Lasso')\n",
      "plt.plot(n_observations, np.log(np.array(enet_times)), c='m', label='Enet')\n",
      "plt.legend(bbox_to_anchor=(1.05, 1), loc=2, borderaxespad=0.)\n",
      "plt.xlabel('# Observations')\n",
      "plt.ylabel('LOG(Runtime) (sec)')\n",
      "#plt.legend(['mRMR', 'MIM', 'JMI','$\\chi^2$'], loc=5)\n"
     ],
     "language": "python",
     "metadata": {},
     "outputs": [
      {
       "metadata": {},
       "output_type": "pyout",
       "prompt_number": 4,
       "text": [
        "<matplotlib.text.Text at 0x104e00ed0>"
       ]
      },
      {
       "metadata": {},
       "output_type": "display_data",
       "png": "[encoded data removed]",
       "text": [
        "<matplotlib.figure.Figure at 0x104df7210>"
       ]
      }
     ],
     "prompt_number": 4
    },
    {
     "cell_type": "code",
     "collapsed": false,
     "input": [],
     "language": "python",
     "metadata": {},
     "outputs": []
    }
   ],
   "metadata": {}
  }
 ]
}