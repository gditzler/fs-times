{
 "metadata": {
  "name": "",
  "signature": "sha256:22c9616eac1132d24a95776c593ccc10bdf3f90f315d8be5c508fafd1762a6ea"
 },
 "nbformat": 3,
 "nbformat_minor": 0,
 "worksheets": [
  {
   "cells": [
    {
     "cell_type": "markdown",
     "metadata": {},
     "source": [
      "# About \n",
      "\n",
      "Compare a few feature subset selection algorithms that can be found in `FEAST` and `Sklearn`. "
     ]
    },
    {
     "cell_type": "code",
     "collapsed": false,
     "input": [
      "import numpy as np\n",
      "import matplotlib.pylab as plt \n",
      "import feast\n",
      "import utils\n",
      "import time \n",
      "from sklearn.feature_selection import chi2 "
     ],
     "language": "python",
     "metadata": {},
     "outputs": [],
     "prompt_number": 10
    },
    {
     "cell_type": "markdown",
     "metadata": {},
     "source": [
      "# Single Evaluation of MIM"
     ]
    },
    {
     "cell_type": "code",
     "collapsed": false,
     "input": [
      "data, labels = utils.gen_dat(n_features=100, n_observations=1000, n_relevant=15)\n",
      "t_start = time.time()\n",
      "sel_feat = feast.MIM(data=data, labels=labels, n_select=15)\n",
      "print time.time() - t_start\n",
      "sel_feats = np.array([1+i for i in sel_feat])  # new feast will index @ zero\n",
      "print len(sel_feats)\n",
      "print np.sort(sel_feats)"
     ],
     "language": "python",
     "metadata": {},
     "outputs": [
      {
       "output_type": "stream",
       "stream": "stdout",
       "text": [
        "0.00163507461548\n",
        "15\n",
        "[  1.   2.   3.   4.   5.   6.   7.   8.   9.  10.  11.  12.  13.  14.  15.]\n"
       ]
      }
     ],
     "prompt_number": 6
    },
    {
     "cell_type": "markdown",
     "metadata": {},
     "source": [
      "# Run the Algorithms "
     ]
    },
    {
     "cell_type": "code",
     "collapsed": false,
     "input": [
      "n_features = 500\n",
      "steps = 250\n",
      "n_begin = 500\n",
      "n_end = 10000\n",
      "n_relevant = 100\n",
      "n_select = int(np.floor(n_features/5))\n",
      "\n",
      "mrmr_times = []\n",
      "mim_times = []\n",
      "jmi_times = []\n",
      "chi2_times = []\n",
      "\n",
      "for n_observations in range(n_begin, n_end, steps):\n",
      "    print \"Running with \" + str(n_observations)\n",
      "    data, labels = utils.gen_dat(n_features=n_features, \n",
      "                                 n_observations=n_observations, \n",
      "                                 n_relevant=n_relevant)\n",
      "    # run mrmr \n",
      "    t_start = time.time()\n",
      "    sel_feat = feast.mRMR(data=data, labels=labels, n_select=int(np.floor(n_features/5)))\n",
      "    mrmr_times.append(time.time() - t_start)\n",
      "    \n",
      "    # run mim \n",
      "    t_start = time.time()\n",
      "    sel_feat = feast.MIM(data=data, labels=labels, n_select=int(np.floor(n_features/5)))\n",
      "    mim_times.append(time.time() - t_start)\n",
      "    \n",
      "    # run jmi\n",
      "    t_start = time.time()\n",
      "    sel_feat = feast.JMI(data=data, labels=labels, n_select=int(np.floor(n_features/5)))\n",
      "    jmi_times.append(time.time() - t_start)\n",
      "    \n",
      "    # run chi2\n",
      "    t_start = time.time()\n",
      "    sel_feat = chi2(X=data, y=labels)\n",
      "    chi2_times.append(time.time() - t_start)\n",
      "    \n",
      "    "
     ],
     "language": "python",
     "metadata": {},
     "outputs": [
      {
       "output_type": "stream",
       "stream": "stdout",
       "text": [
        "Running with 500\n",
        "Running with 750"
       ]
      },
      {
       "output_type": "stream",
       "stream": "stdout",
       "text": [
        "\n",
        "Running with 1000"
       ]
      },
      {
       "output_type": "stream",
       "stream": "stdout",
       "text": [
        "\n",
        "Running with 1250"
       ]
      },
      {
       "output_type": "stream",
       "stream": "stdout",
       "text": [
        "\n",
        "Running with 1500"
       ]
      },
      {
       "output_type": "stream",
       "stream": "stdout",
       "text": [
        "\n",
        "Running with 1750"
       ]
      },
      {
       "output_type": "stream",
       "stream": "stdout",
       "text": [
        "\n",
        "Running with 2000"
       ]
      },
      {
       "output_type": "stream",
       "stream": "stdout",
       "text": [
        "\n",
        "Running with 2250"
       ]
      },
      {
       "output_type": "stream",
       "stream": "stdout",
       "text": [
        "\n",
        "Running with 2500"
       ]
      },
      {
       "output_type": "stream",
       "stream": "stdout",
       "text": [
        "\n",
        "Running with 2750"
       ]
      },
      {
       "output_type": "stream",
       "stream": "stdout",
       "text": [
        "\n",
        "Running with 3000"
       ]
      },
      {
       "output_type": "stream",
       "stream": "stdout",
       "text": [
        "\n",
        "Running with 3250"
       ]
      },
      {
       "output_type": "stream",
       "stream": "stdout",
       "text": [
        "\n",
        "Running with 3500"
       ]
      },
      {
       "output_type": "stream",
       "stream": "stdout",
       "text": [
        "\n",
        "Running with 3750"
       ]
      },
      {
       "output_type": "stream",
       "stream": "stdout",
       "text": [
        "\n",
        "Running with 4000"
       ]
      },
      {
       "output_type": "stream",
       "stream": "stdout",
       "text": [
        "\n",
        "Running with 4250"
       ]
      },
      {
       "output_type": "stream",
       "stream": "stdout",
       "text": [
        "\n",
        "Running with 4500"
       ]
      },
      {
       "output_type": "stream",
       "stream": "stdout",
       "text": [
        "\n",
        "Running with 4750"
       ]
      },
      {
       "output_type": "stream",
       "stream": "stdout",
       "text": [
        "\n",
        "Running with 5000"
       ]
      },
      {
       "output_type": "stream",
       "stream": "stdout",
       "text": [
        "\n",
        "Running with 5250"
       ]
      },
      {
       "output_type": "stream",
       "stream": "stdout",
       "text": [
        "\n",
        "Running with 5500"
       ]
      },
      {
       "output_type": "stream",
       "stream": "stdout",
       "text": [
        "\n",
        "Running with 5750"
       ]
      },
      {
       "output_type": "stream",
       "stream": "stdout",
       "text": [
        "\n",
        "Running with 6000"
       ]
      },
      {
       "output_type": "stream",
       "stream": "stdout",
       "text": [
        "\n",
        "Running with 6250"
       ]
      },
      {
       "output_type": "stream",
       "stream": "stdout",
       "text": [
        "\n",
        "Running with 6500"
       ]
      },
      {
       "output_type": "stream",
       "stream": "stdout",
       "text": [
        "\n",
        "Running with 6750"
       ]
      },
      {
       "output_type": "stream",
       "stream": "stdout",
       "text": [
        "\n",
        "Running with 7000"
       ]
      },
      {
       "output_type": "stream",
       "stream": "stdout",
       "text": [
        "\n",
        "Running with 7250"
       ]
      },
      {
       "output_type": "stream",
       "stream": "stdout",
       "text": [
        "\n",
        "Running with 7500"
       ]
      },
      {
       "output_type": "stream",
       "stream": "stdout",
       "text": [
        "\n",
        "Running with 7750"
       ]
      },
      {
       "output_type": "stream",
       "stream": "stdout",
       "text": [
        "\n",
        "Running with 8000"
       ]
      },
      {
       "output_type": "stream",
       "stream": "stdout",
       "text": [
        "\n",
        "Running with 8250"
       ]
      },
      {
       "output_type": "stream",
       "stream": "stdout",
       "text": [
        "\n",
        "Running with 8500"
       ]
      }
     ]
    },
    {
     "cell_type": "markdown",
     "metadata": {},
     "source": [
      "# Plot the results "
     ]
    },
    {
     "cell_type": "code",
     "collapsed": false,
     "input": [
      "n_observations = range(n_begin, n_end, steps)\n",
      "plt.plot(n_observations, np.log(np.array(mrmr_times)), c='b', marker='o')\n",
      "plt.plot(n_observations, np.log(np.array(mim_times)), c='r',marker='o')\n",
      "plt.plot(n_observations, np.log(np.array(jmi_times)), c='k',marker='o')\n",
      "plt.plot(n_observations, np.log(np.array(chi2_times)), c='c',marker='o')\n",
      "plt.xlabel('# Observations')\n",
      "plt.ylabel('LOG(Runtime) (sec)')\n",
      "plt.legend(['mRMR', 'MIM', 'JMI','$\\chi^2$'], loc=5)\n"
     ],
     "language": "python",
     "metadata": {},
     "outputs": [
      {
       "metadata": {},
       "output_type": "pyout",
       "prompt_number": 26,
       "text": [
        "<matplotlib.legend.Legend at 0x107e381d0>"
       ]
      },
      {
       "metadata": {},
       "output_type": "display_data",
       "png": "[encoded data removed]",
       "text": [
        "<matplotlib.figure.Figure at 0x107d57ed0>"
       ]
      }
     ],
     "prompt_number": 26
    },
    {
     "cell_type": "code",
     "collapsed": false,
     "input": [],
     "language": "python",
     "metadata": {},
     "outputs": []
    }
   ],
   "metadata": {}
  }
 ]
}