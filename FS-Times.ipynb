{
 "metadata": {
  "name": "",
  "signature": "sha256:621714d3efb0d02b3f5a14c9a564b4f9bbbb269db175d6342a36b26666540fb0"
 },
 "nbformat": 3,
 "nbformat_minor": 0,
 "worksheets": [
  {
   "cells": [
    {
     "cell_type": "code",
     "collapsed": false,
     "input": [
      "import numpy as np\n",
      "import pandas as pd \n",
      "import matplotlib.pylab as plt \n",
      "import feast\n",
      "import utils\n",
      "import time "
     ],
     "language": "python",
     "metadata": {},
     "outputs": [],
     "prompt_number": 1
    },
    {
     "cell_type": "code",
     "collapsed": false,
     "input": [
      "data, labels = utils.gen_dat(n_features=100, n_observations=1000, n_relevant=15)\n",
      "t_start = time.time()\n",
      "sel_feat = feast.mRMR(data=data, labels=labels, n_select=15)\n",
      "print time.time() - t_start\n",
      "sel_feats = np.array([1+i for i in sel_feat])  # new feast will index @ zero\n",
      "print len(sel_feats)\n",
      "print sel_feats"
     ],
     "language": "python",
     "metadata": {},
     "outputs": [
      {
       "output_type": "stream",
       "stream": "stdout",
       "text": [
        "0.0258860588074\n",
        "15\n",
        "[  8.   7.   0.  13.  14.   3.   4.   9.   2.   5.   6.   1.  12.  10.  11.]\n"
       ]
      }
     ],
     "prompt_number": 2
    },
    {
     "cell_type": "code",
     "collapsed": false,
     "input": [
      "n_features = 500\n",
      "steps = 250\n",
      "n_begin = 500\n",
      "n_end = 5000\n",
      "n_relevant = 100\n",
      "n_select = int(np.floor(n_features/5))\n",
      "\n",
      "mrmr_times = []\n",
      "mim_times = []\n",
      "jmi_times = []\n",
      "\n",
      "for n_observations in range(n_begin, n_end, steps):\n",
      "    print \"Running with \" + str(n_observations)\n",
      "    data, labels = utils.gen_dat(n_features=n_features, \n",
      "                                 n_observations=n_observations, \n",
      "                                 n_relevant=n_relevant)\n",
      "    # run mrmr\n",
      "    t_start = time.time()\n",
      "    sel_feat = feast.mRMR(data=data, labels=labels, n_select=n_select)\n",
      "    mrmr_times.append(time.time() - t_start)\n",
      "    \n",
      "    # run mim\n",
      "    t_start = time.time()\n",
      "    sel_feat = feast.MIM(data=data, labels=labels, n_select=n_select)\n",
      "    mim_times.append(time.time() - t_start)\n",
      "    \n",
      "    # run mim\n",
      "    t_start = time.time()\n",
      "    sel_feat = feast.MIM(data=data, labels=labels, n_select=n_select)\n",
      "    jmi_times.append(time.time() - t_start)\n",
      "    "
     ],
     "language": "python",
     "metadata": {},
     "outputs": [
      {
       "output_type": "stream",
       "stream": "stdout",
       "text": [
        "Running with 500\n",
        "Running with 750"
       ]
      },
      {
       "output_type": "stream",
       "stream": "stdout",
       "text": [
        "\n",
        "Running with 1000"
       ]
      },
      {
       "output_type": "stream",
       "stream": "stdout",
       "text": [
        "\n",
        "Running with 1250"
       ]
      },
      {
       "output_type": "stream",
       "stream": "stdout",
       "text": [
        "\n",
        "Running with 1500"
       ]
      },
      {
       "output_type": "stream",
       "stream": "stdout",
       "text": [
        "\n",
        "Running with 1750"
       ]
      },
      {
       "output_type": "stream",
       "stream": "stdout",
       "text": [
        "\n",
        "Running with 2000"
       ]
      },
      {
       "output_type": "stream",
       "stream": "stdout",
       "text": [
        "\n",
        "Running with 2250"
       ]
      },
      {
       "output_type": "stream",
       "stream": "stdout",
       "text": [
        "\n",
        "Running with 2500"
       ]
      },
      {
       "output_type": "stream",
       "stream": "stdout",
       "text": [
        "\n",
        "Running with 2750"
       ]
      },
      {
       "output_type": "stream",
       "stream": "stdout",
       "text": [
        "\n",
        "Running with 3000"
       ]
      },
      {
       "output_type": "stream",
       "stream": "stdout",
       "text": [
        "\n",
        "Running with 3250"
       ]
      },
      {
       "output_type": "stream",
       "stream": "stdout",
       "text": [
        "\n",
        "Running with 3500"
       ]
      },
      {
       "output_type": "stream",
       "stream": "stdout",
       "text": [
        "\n",
        "Running with 3750"
       ]
      },
      {
       "output_type": "stream",
       "stream": "stdout",
       "text": [
        "\n",
        "Running with 4000"
       ]
      },
      {
       "output_type": "stream",
       "stream": "stdout",
       "text": [
        "\n",
        "Running with 4250"
       ]
      },
      {
       "output_type": "stream",
       "stream": "stdout",
       "text": [
        "\n",
        "Running with 4500"
       ]
      },
      {
       "output_type": "stream",
       "stream": "stdout",
       "text": [
        "\n",
        "Running with 4750"
       ]
      },
      {
       "output_type": "stream",
       "stream": "stdout",
       "text": [
        "\n"
       ]
      }
     ],
     "prompt_number": 16
    },
    {
     "cell_type": "code",
     "collapsed": false,
     "input": [
      "n_observations = range(n_begin, n_end, steps)\n",
      "plt.plot(n_observations, np.array(mrmr_times), c='b')\n",
      "plt.plot(n_observations, np.array(mim_times), c='r')\n",
      "plt.plot(n_observations, np.array(jmi_times), c='k')\n",
      "plt.xlabel('# Observations')\n",
      "plt.ylabel('Runtime (sec)')\n",
      "plt.legend(['mRMR', 'MIM', 'JMI'])"
     ],
     "language": "python",
     "metadata": {},
     "outputs": [
      {
       "metadata": {},
       "output_type": "pyout",
       "prompt_number": 15,
       "text": [
        "<matplotlib.legend.Legend at 0x10a1d9e50>"
       ]
      },
      {
       "metadata": {},
       "output_type": "display_data",
       "png": "[encoded data removed]",
       "text": [
        "<matplotlib.figure.Figure at 0x10a273550>"
       ]
      }
     ],
     "prompt_number": 15
    },
    {
     "cell_type": "code",
     "collapsed": false,
     "input": [],
     "language": "python",
     "metadata": {},
     "outputs": []
    }
   ],
   "metadata": {}
  }
 ]
}